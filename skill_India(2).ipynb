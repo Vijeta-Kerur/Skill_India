{
 "cells": [
  {
   "cell_type": "code",
   "execution_count": 2,
   "metadata": {},
   "outputs": [],
   "source": [
    "import json\n",
    "fd = open('record.json','r')\n",
    "txt = fd.read()\n",
    "fd.close()\n",
    "record = json.loads(txt)"
   ]
  },
  {
   "cell_type": "code",
   "execution_count": 4,
   "metadata": {},
   "outputs": [
    {
     "name": "stdout",
     "output_type": "stream",
     "text": [
      "enter the prod_id: 1005\n",
      "enter the quantity10\n",
      "products:  DairyMilk\n",
      "price: 5\n",
      "Billing Amount:  50\n"
     ]
    }
   ],
   "source": [
    "ui_prod = input(\"enter the prod_id: \")\n",
    "ui_quant = int(input(\"enter the quantity\"))\n",
    "\n",
    "print(\"products: \", record[ui_prod]['name'])\n",
    "print(\"price:\",record[ui_prod]['pr'])\n",
    "print(\"Billing Amount: \",record[ui_prod]['pr']*ui_quant)\n",
    "\n",
    "record[ui_prod]['qn'] = record[ui_prod]['qn']-ui_quant"
   ]
  },
  {
   "cell_type": "code",
   "execution_count": 5,
   "metadata": {},
   "outputs": [
    {
     "data": {
      "text/plain": [
       "{'1001': {'name': 'Choco Cake', 'qn': 34, 'pr': 100},\n",
       " '1002': {'name': 'Milk Cake', 'pr': 800, 'qn': 100},\n",
       " '1003': {'name': 'Kitkat', 'pr': 10, 'qn': 20},\n",
       " '1004': {'name': 'munch', 'pr': 5, 'qn': 13},\n",
       " '1005': {'name': 'DairyMilk', 'pr': 5, 'qn': 10},\n",
       " '1006': {'name': 'mr.Break', 'pr': 5, 'qn': 6},\n",
       " '1007': {'name': 'MangoBite', 'pr': 1, 'qn': 30},\n",
       " '1008': {'name': 'Melody', 'pr': 1, 'qn': 15},\n",
       " '1009': {'name': 'Falero', 'pr': 1, 'qn': 30},\n",
       " '1010': {'name': '5star', 'pr': 5, 'qn': 10},\n",
       " '1011': {'name': 'KoffeeBite', 'pr': 1, 'qn': 20},\n",
       " '1012': {'name': 'MilkyBar', 'pr': 5, 'qn': 15},\n",
       " '1013': {'name': 'Eclairs', 'pr': 1, 'qn': 15},\n",
       " '1014': {'name': 'CandyMan', 'pr': 3, 'qn': 12},\n",
       " '1015': {'name': 'DairyMilk Silk', 'pr': 80, 'qn': 5}}"
      ]
     },
     "execution_count": 5,
     "metadata": {},
     "output_type": "execute_result"
    }
   ],
   "source": [
    "record"
   ]
  },
  {
   "cell_type": "code",
   "execution_count": 9,
   "metadata": {},
   "outputs": [],
   "source": [
    "js = json.dumps(record)\n",
    "fd = open(\"record.json\",'w')\n",
    "fd.write(js)\n",
    "fd.close()"
   ]
  },
  {
   "cell_type": "code",
   "execution_count": null,
   "metadata": {},
   "outputs": [],
   "source": [
    "#sales"
   ]
  },
  {
   "cell_type": "code",
   "execution_count": 6,
   "metadata": {},
   "outputs": [
    {
     "data": {
      "text/plain": [
       "{'prod': '1005', 'qn': 10, 'amount': 50}"
      ]
     },
     "execution_count": 6,
     "metadata": {},
     "output_type": "execute_result"
    }
   ],
   "source": [
    "{'prod' : ui_prod, 'qn' : ui_quant,'amount': record[ui_prod]['pr']*ui_quant}"
   ]
  },
  {
   "cell_type": "code",
   "execution_count": 7,
   "metadata": {},
   "outputs": [],
   "source": [
    "sales = {1:{'prod' : ui_prod, 'qn' : ui_quant, 'amount': record[ui_prod]['pr']*ui_quant},\n",
    "         2:{'prod' : ui_prod, 'qn' : ui_quant, 'amount': record[ui_prod]['pr']*ui_quant},\n",
    "         3:{'prod' : ui_prod, 'qn' : ui_quant, 'amount': record[ui_prod]['pr']*ui_quant}}"
   ]
  },
  {
   "cell_type": "code",
   "execution_count": 10,
   "metadata": {},
   "outputs": [],
   "source": [
    "sale = json.dumps(sales)\n",
    "fd = open(\"record.json\",'w')\n",
    "fd.write(sale)\n",
    "fd.close()"
   ]
  },
  {
   "cell_type": "code",
   "execution_count": 11,
   "metadata": {},
   "outputs": [
    {
     "data": {
      "text/plain": [
       "'{\"1\": {\"prod\": \"1005\", \"qn\": 10, \"amount\": 50}, \"2\": {\"prod\": \"1005\", \"qn\": 10, \"amount\": 50}, \"3\": {\"prod\": \"1005\", \"qn\": 10, \"amount\": 50}}'"
      ]
     },
     "execution_count": 11,
     "metadata": {},
     "output_type": "execute_result"
    }
   ],
   "source": [
    "sale"
   ]
  }
 ],
 "metadata": {
  "kernelspec": {
   "display_name": "Python 3",
   "language": "python",
   "name": "python3"
  },
  "language_info": {
   "codemirror_mode": {
    "name": "ipython",
    "version": 3
   },
   "file_extension": ".py",
   "mimetype": "text/x-python",
   "name": "python",
   "nbconvert_exporter": "python",
   "pygments_lexer": "ipython3",
   "version": "3.8.3"
  }
 },
 "nbformat": 4,
 "nbformat_minor": 4
}
