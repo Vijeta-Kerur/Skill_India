{
 "cells": [
  {
   "cell_type": "code",
   "execution_count": 1,
   "metadata": {},
   "outputs": [
    {
     "name": "stdout",
     "output_type": "stream",
     "text": [
      "enter product id:1003\n",
      "enter the product name:Kitkat\n",
      "enter the product price10\n",
      "enter quantity:20\n"
     ]
    }
   ],
   "source": [
    "import json\n",
    "fd = open('record.json','r')\n",
    "txt = fd.read()\n",
    "fd.close()\n",
    "record = json.loads(txt)\n",
    "prod_id = input(\"enter product id:\")\n",
    "name = input(\"enter the product name:\")\n",
    "pr = int(input(\"enter the product price\"))\n",
    "qn = int(input(\"enter quantity:\"))\n",
    "record[prod_id]={'name':name,'pr':pr,'qn':qn}"
   ]
  },
  {
   "cell_type": "code",
   "execution_count": 2,
   "metadata": {},
   "outputs": [
    {
     "data": {
      "text/plain": [
       "{'1001': {'name': 'Choco Cake', 'qn': 34, 'pr': 100},\n",
       " '1002': {'name': 'Milk Cake', 'pr': 800, 'qn': 100},\n",
       " '1003': {'name': 'Kitkat', 'pr': 10, 'qn': 20}}"
      ]
     },
     "execution_count": 2,
     "metadata": {},
     "output_type": "execute_result"
    }
   ],
   "source": [
    "record"
   ]
  },
  {
   "cell_type": "code",
   "execution_count": 3,
   "metadata": {},
   "outputs": [
    {
     "name": "stdout",
     "output_type": "stream",
     "text": [
      "enter product id:1004\n",
      "enter the product name:munch\n",
      "enter the product price5\n",
      "enter quantity:13\n"
     ]
    }
   ],
   "source": [
    "prod_id = input(\"enter product id:\")\n",
    "name = input(\"enter the product name:\")\n",
    "pr = int(input(\"enter the product price\"))\n",
    "qn = int(input(\"enter quantity:\"))\n",
    "record[prod_id]={'name':name,'pr':pr,'qn':qn}"
   ]
  },
  {
   "cell_type": "code",
   "execution_count": 5,
   "metadata": {},
   "outputs": [
    {
     "name": "stdout",
     "output_type": "stream",
     "text": [
      "enter product id:1006\n",
      "enter the product name:mr.Break\n",
      "enter the product price5\n",
      "enter quantity:6\n"
     ]
    }
   ],
   "source": [
    "prod_id = input(\"enter product id:\")\n",
    "name = input(\"enter the product name:\")\n",
    "pr = int(input(\"enter the product price\"))\n",
    "qn = int(input(\"enter quantity:\"))\n",
    "record[prod_id]={'name':name,'pr':pr,'qn':qn}\n"
   ]
  },
  {
   "cell_type": "code",
   "execution_count": 6,
   "metadata": {},
   "outputs": [
    {
     "data": {
      "text/plain": [
       "{'1001': {'name': 'Choco Cake', 'qn': 34, 'pr': 100},\n",
       " '1002': {'name': 'Milk Cake', 'pr': 800, 'qn': 100},\n",
       " '1003': {'name': 'Kitkat', 'pr': 10, 'qn': 20},\n",
       " '1004': {'name': 'munch', 'pr': 5, 'qn': 13},\n",
       " '1005': {'name': 'DairyMilk', 'pr': 5, 'qn': 20},\n",
       " '1006': {'name': 'mr.Break', 'pr': 5, 'qn': 6}}"
      ]
     },
     "execution_count": 6,
     "metadata": {},
     "output_type": "execute_result"
    }
   ],
   "source": [
    "record"
   ]
  },
  {
   "cell_type": "code",
   "execution_count": 15,
   "metadata": {},
   "outputs": [
    {
     "name": "stdout",
     "output_type": "stream",
     "text": [
      "enter product id:1015\n",
      "enter the product name:DairyMilk Silk\n",
      "enter the product price80\n",
      "enter quantity:5\n"
     ]
    }
   ],
   "source": [
    "prod_id = input(\"enter product id:\")\n",
    "name = input(\"enter the product name:\")\n",
    "pr = int(input(\"enter the product price\"))\n",
    "qn = int(input(\"enter quantity:\"))\n",
    "record[prod_id]={'name':name,'pr':pr,'qn':qn}"
   ]
  },
  {
   "cell_type": "code",
   "execution_count": 16,
   "metadata": {},
   "outputs": [
    {
     "data": {
      "text/plain": [
       "{'1001': {'name': 'Choco Cake', 'qn': 34, 'pr': 100},\n",
       " '1002': {'name': 'Milk Cake', 'pr': 800, 'qn': 100},\n",
       " '1003': {'name': 'Kitkat', 'pr': 10, 'qn': 20},\n",
       " '1004': {'name': 'munch', 'pr': 5, 'qn': 13},\n",
       " '1005': {'name': 'DairyMilk', 'pr': 5, 'qn': 20},\n",
       " '1006': {'name': 'mr.Break', 'pr': 5, 'qn': 6},\n",
       " '1007': {'name': 'MangoBite', 'pr': 1, 'qn': 30},\n",
       " '1008': {'name': 'Melody', 'pr': 1, 'qn': 15},\n",
       " '1009': {'name': 'Falero', 'pr': 1, 'qn': 30},\n",
       " '1010': {'name': '5star', 'pr': 5, 'qn': 10},\n",
       " '1011': {'name': 'KoffeeBite', 'pr': 1, 'qn': 20},\n",
       " '1012': {'name': 'MilkyBar', 'pr': 5, 'qn': 15},\n",
       " '1013': {'name': 'Eclairs', 'pr': 1, 'qn': 15},\n",
       " '1014': {'name': 'CandyMan', 'pr': 3, 'qn': 12},\n",
       " '1015': {'name': 'DairyMilk Silk', 'pr': 80, 'qn': 5}}"
      ]
     },
     "execution_count": 16,
     "metadata": {},
     "output_type": "execute_result"
    }
   ],
   "source": [
    "record"
   ]
  },
  {
   "cell_type": "code",
   "execution_count": 18,
   "metadata": {},
   "outputs": [],
   "source": [
    "js = json.dumps(record)\n",
    "fd = open(\"record.json\",'w')\n",
    "fd.write(js)\n",
    "fd.close()"
   ]
  }
 ],
 "metadata": {
  "kernelspec": {
   "display_name": "Python 3",
   "language": "python",
   "name": "python3"
  },
  "language_info": {
   "codemirror_mode": {
    "name": "ipython",
    "version": 3
   },
   "file_extension": ".py",
   "mimetype": "text/x-python",
   "name": "python",
   "nbconvert_exporter": "python",
   "pygments_lexer": "ipython3",
   "version": "3.8.3"
  }
 },
 "nbformat": 4,
 "nbformat_minor": 4
}
